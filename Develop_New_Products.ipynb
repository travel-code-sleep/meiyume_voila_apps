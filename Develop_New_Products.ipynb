{
 "cells": [
  {
   "cell_type": "markdown",
   "metadata": {},
   "source": [
    "# User Interface Introduction\n",
    "\n",
    "## Demo App has three tabs.\n",
    "### 1. __New Ingredients__\n",
    "\n",
    "* **Purpose: Shows new ingredient to the market. (Focus- Last Metadata Scrape)**\n",
    "* Disclaimer-1: Currenly the lanugage model(machine learning for nlp) used for ingredient data tokenization(separation) is at early stage so there will be some instances of ingredient that might look incomplete. \n",
    "* Disclaimer-2: Ingredient type classification is being done with rule based labelling functions which might not be very accurate. A ML based approach is currently under development that will take over labelling functions for much more accurate ingredient type classification.\n",
    "* **Logic: Take all the ingredients of products that are marked as _\"New\"_ in e-commerce site. Then check whether any of these ingredients already exist in the old products. If does not exist, mark the ingredient as new.**\n",
    "* **Interaction: Data is shown in an excel like grid. Apart from two top level filters users can interact with the grid by clicking sorting buttons or excel like filtering buttons. These buttons work exactly as they do in excel.**\n",
    "\n",
    "<img src=\"filter.PNG\">\n",
    "\n",
    "\n",
    "### 2. __Ingredient Over Time__\n",
    "* **Pupose: Shows in how many differect products the new ingredient is used over time.**\n",
    "* **Disclaimer: As we have only two time points now, Bar chart is used but once we multiple timepoints the charts will be changed to Line chart over time.**\n",
    "\n",
    "### 3. __Ingredient Type Over Time__\n",
    "* **Pupose: Shows how the ingredient type usage vary over time.**\n",
    "* **Disclaimer: As we have only two time points now, Bar chart is used but once we multiple timepoints the charts will be changed to Line chart over time.**"
   ]
  },
  {
   "cell_type": "markdown",
   "metadata": {},
   "source": [
    "# Develop New Products"
   ]
  },
  {
   "cell_type": "code",
   "execution_count": 1,
   "metadata": {},
   "outputs": [],
   "source": [
    "%reload_ext autoreload\n",
    "%autoreload 2\n",
    "%matplotlib inline"
   ]
  },
  {
   "cell_type": "code",
   "execution_count": 14,
   "metadata": {},
   "outputs": [],
   "source": [
    "import qgrid, pandas as pd, numpy as np, swifter, warnings, os, seaborn as sns\n",
    "from pathlib import Path\n",
    "import matplotlib.pyplot as plt\n",
    "import ipywidgets as ipw\n",
    "from ipywidgets.widgets import interact, interactive\n",
    "from IPython.display import display\n",
    "\n",
    "\n",
    "plt.style.use('ggplot')\n",
    "# os.getcwd(); os.chdir(r'C:\\Amit\\Meiyume\\voila_apps')\n",
    "warnings.simplefilter(action='ignore')"
   ]
  },
  {
   "cell_type": "code",
   "execution_count": 5,
   "metadata": {},
   "outputs": [],
   "source": [
    "ing_df = pd.read_csv('develop_new_app_demo_data.csv')"
   ]
  },
  {
   "cell_type": "code",
   "execution_count": 6,
   "metadata": {},
   "outputs": [],
   "source": [
    "### Prepare Data\n",
    "new_ing_now = ing_df[(ing_df.new_flag=='New_Ingredient')&(ing_df.meta_date==ing_df.meta_date.max())]\n",
    "new_ing_now.drop_duplicates(inplace=True)\n",
    "new_ing_now.reset_index(drop=True, inplace=True)\n",
    "\n",
    "nidf = ing_df[['meta_date', 'ingredient', 'prod_id']][(ing_df.new_flag=='New_Ingredient')].groupby(by=['meta_date', 'ingredient']).count().reset_index()\n",
    "nidf.columns = ['meta_date', 'ingredient', 'count']\n",
    "nidf['meta_month'] = pd.to_datetime(nidf.meta_date).dt.strftime('%b-%Y')\n",
    "nidf.set_index('ingredient', inplace=True)\n",
    "ing_df.set_index('ingredient', inplace=True)\n",
    "nidf = nidf.join(ing_df['ingredient_type'], how='inner').reset_index().drop_duplicates(subset=['meta_month', 'ingredient'])\n",
    "ing_df.reset_index(inplace=True)\n",
    "\n",
    "itdf = ing_df[['meta_date', 'ingredient_type', 'ingredient']].drop_duplicates(subset=['meta_date','ingredient'])\\\n",
    ".groupby(by=['meta_date','ingredient_type']).count().reset_index()\n",
    "itdf.columns = ['meta_date', 'ingredient_type', 'count']\n",
    "itdf['meta_month'] = pd.to_datetime(itdf.meta_date).dt.strftime('%b-%Y')"
   ]
  },
  {
   "cell_type": "code",
   "execution_count": 7,
   "metadata": {},
   "outputs": [],
   "source": [
    "def categorical_unique_sorted_values_all(series):\n",
    "    selection_list = series.dropna().unique().tolist()\n",
    "    selection_list.sort()\n",
    "    selection_list.insert(0, 'All')\n",
    "    return selection_list\n",
    "\n",
    "def number_slider_values(series, get:[str]):\n",
    "    if get=='min': return series.min()\n",
    "    elif get=='max': return series.max()\n",
    "    \n",
    "def colour_value(value, comparison):\n",
    "    if value >= comparison:\n",
    "        return 'color: green'\n",
    "    else:\n",
    "        return 'color: red'"
   ]
  },
  {
   "cell_type": "code",
   "execution_count": 8,
   "metadata": {},
   "outputs": [],
   "source": [
    "# create all widgets\n",
    "dropdown_ing_type = ipw.Dropdown(\n",
    "    options= categorical_unique_sorted_values_all(ing_df.ingredient_type),\n",
    "    value='All',\n",
    "    description='IngType:', width='auto'\n",
    ")\n",
    "dropdown_ing_type_plot = ipw.Dropdown(\n",
    "    options= categorical_unique_sorted_values_all(ing_df.ingredient_type),\n",
    "    value='All',\n",
    "    description='IngType:', width='auto'\n",
    ")\n",
    "dropdown_prod_type = ipw.Dropdown(\n",
    "    options= categorical_unique_sorted_values_all(ing_df.product_type[ing_df.new_flag=='New_Ingredient']),\n",
    "    value='All',\n",
    "    description='ProductType:', width='auto'\n",
    ")\n",
    "dropdown_ingredient_new = ipw.Dropdown(\n",
    "    options= categorical_unique_sorted_values_all(ing_df.ingredient[ing_df.new_flag=='New_Ingredient']),\n",
    "    value= nidf.ingredient[0],\n",
    "    description='ProductType:', width='auto'\n",
    ")\n",
    "floatslider_bayes = ipw.FloatSlider(value=4,\n",
    "                         min=number_slider_values(ing_df.bayesian_estimate, 'min'),\n",
    "                         max=number_slider_values(ing_df.bayesian_estimate, 'max')+1,\n",
    "                         description='BayesianScore',\n",
    "                         continuous_update=False,\n",
    "                         orientation='horizontal',\n",
    "                         readout=True)"
   ]
  },
  {
   "cell_type": "code",
   "execution_count": 9,
   "metadata": {},
   "outputs": [],
   "source": [
    "new_ing_output = ipw.Output(layout={'border': '1px solid black'})\n",
    "\n",
    "def filter_dataframe(ing_type, prod_type, df = new_ing_now):\n",
    "    new_ing_output.clear_output(wait=True)\n",
    "    df = df[['ingredient', 'ingredient_type', 'clean_flag', 'ban_flag', 'product_name', 'bayesian_estimate', 'category', 'product_type']]\n",
    "    if (ing_type=='All') & (prod_type=='All'):\n",
    "        filtered_df = df\n",
    "    elif prod_type=='All':\n",
    "        filtered_df = df[(df.ingredient_type==ing_type)]\n",
    "    elif ing_type=='All':\n",
    "        filtered_df = df[(df.product_type==prod_type)]\n",
    "    else:\n",
    "        filtered_df = df[(df.ingredient_type==ing_type)&(df.product_type==prod_type)]\n",
    "        \n",
    "    with new_ing_output:        \n",
    "        df_qgrid = qgrid.show_grid(filtered_df)\n",
    "        df_qgrid.layout = ipw.Layout(width='1450px')\n",
    "        display(df_qgrid)\n",
    "\n",
    "def dropdown_ing_type_eventhandler(change): filter_dataframe(change.new, dropdown_prod_type.value)\n",
    "def dropdown_prod_type_eventhandler(change): filter_dataframe(dropdown_ing_type.value, change.new)\n",
    "    \n",
    "dropdown_ing_type.observe(dropdown_ing_type_eventhandler, names='value')\n",
    "dropdown_prod_type.observe(dropdown_prod_type_eventhandler, names='value')"
   ]
  },
  {
   "cell_type": "code",
   "execution_count": 10,
   "metadata": {},
   "outputs": [],
   "source": [
    "plot_ing_time_output = ipw.Output(layout={'border': '1px solid black'})\n",
    "\n",
    "def plot_ing_over_time(ingredient, df=nidf):\n",
    "    plot_ing_time_output.clear_output(wait=True)\n",
    "    \n",
    "    if ingredient=='All': \n",
    "        with plot_ing_time_output:\n",
    "            print('choose one ingredient at a time')\n",
    "    else: \n",
    "        ing_type = nidf.ingredient_type[nidf.ingredient==ingredient].values[0]\n",
    "        if ing_type is np.nan:\n",
    "            ing_type = ''\n",
    "            \n",
    "        fig, ax = plt.subplots()\n",
    "        p = nidf[nidf.ingredient==ingredient].plot.barh(x='meta_month', y='count', figsize=(14,6), ax=ax)\n",
    "        ax.set_ylabel('DateTime', fontsize=16, color='black')\n",
    "        ax.set_xlabel('Presence in Products', fontsize=16, color='black')\n",
    "        plt.xticks(fontsize=12, color='b')\n",
    "        plt.yticks(fontsize=12, color='b')\n",
    "        ax.legend((ingredient + ' - ' + ing_type, ),loc='upper center', fontsize=16)\n",
    "        plt.title('New Ingredient Usage Over Time', fontsize=20)\n",
    "\n",
    "        with plot_ing_time_output:    \n",
    "            plt.tight_layout()\n",
    "            plt.show(p)\n",
    "\n",
    "def dropdown_ingredient_new_eventhandler(change): plot_ing_over_time(change.new, dropdown_prod_type.value)\n",
    "dropdown_ingredient_new.observe(dropdown_ingredient_new_eventhandler, names='value')"
   ]
  },
  {
   "cell_type": "code",
   "execution_count": 11,
   "metadata": {},
   "outputs": [],
   "source": [
    "plot_ingtype_time_output = ipw.Output(layout={'border': '1px solid black'})\n",
    "\n",
    "def plot_ingtype_over_time(ing_type, df=itdf):\n",
    "    plot_ingtype_time_output.clear_output(wait=True)\n",
    "    \n",
    "    if ing_type=='All': df = itdf\n",
    "    else: df = itdf[itdf.ingredient_type==ing_type]\n",
    "    with sns.axes_style({'ytick.color':'b','xtick.color':'b', \n",
    "                         'font_scale':1.2, 'style':\"darkgrid\"}):\n",
    "        \n",
    "        fig, ax = plt.subplots(1,1, figsize=(12,6))\n",
    "        g = sns.catplot(x=\"count\", y=\"meta_month\", hue=\"ingredient_type\", \n",
    "                        data=df, kind=\"bar\", palette=\"muted\", ax=ax)\n",
    "        g.despine(left=True)\n",
    "        ax.set_title('Ingredient Type Over Time', fontsize=20)\n",
    "        ax.set_ylabel('DateTime', fontsize=16, color='black')\n",
    "        ax.set_xlabel('Total Identified Ingredients', fontsize=16, color='black')\n",
    "        plt.setp(ax.get_legend().get_texts(), fontsize='14') # for legend text\n",
    "        plt.setp(ax.get_legend().get_title(), fontsize='16')\n",
    "        # Put the legend out of the figure\n",
    "        ax.legend(bbox_to_anchor=(1.05, 1), loc=2, borderaxespad=0.)\n",
    "        if ing_type!='All':\n",
    "            for i, v in enumerate(df['count'].values):\n",
    "                ax.text( v, i  , str(v), color='black', fontweight='bold')\n",
    "        \n",
    "        with plot_ingtype_time_output:\n",
    "            plt.close(g.fig)\n",
    "            plt.tight_layout()\n",
    "            plt.show(g)\n",
    "\n",
    "def dropdown_ing_type_time_eventhandler(change): plot_ingtype_over_time(change.new, dropdown_prod_type.value)\n",
    "dropdown_ing_type_plot.observe(dropdown_ing_type_time_eventhandler, names='value')"
   ]
  },
  {
   "cell_type": "code",
   "execution_count": 12,
   "metadata": {},
   "outputs": [],
   "source": [
    "new_ing_widgets = ipw.VBox([ipw.HBox([dropdown_ing_type, dropdown_prod_type]), new_ing_output])\n",
    "plot_ing_time_widgets = ipw.VBox([dropdown_ingredient_new, plot_ing_time_output])\n",
    "plot_ingtype_time_widgets = ipw.VBox([dropdown_ing_type_plot, plot_ingtype_time_output])\n",
    "\n",
    "tab = ipw.Tab([new_ing_widgets, plot_ing_time_widgets,plot_ingtype_time_widgets])\n",
    "tab.set_title(0, 'New Ingredients')\n",
    "tab.set_title(1, 'Ingredient Over Time')\n",
    "tab.set_title(2, 'IngredientType Over Time')\n",
    "tab.layout = ipw.Layout(width='1500px')"
   ]
  },
  {
   "cell_type": "code",
   "execution_count": 13,
   "metadata": {},
   "outputs": [
    {
     "data": {
      "application/vnd.jupyter.widget-view+json": {
       "model_id": "51ad9cc6c518436c90bc12fdc89b54a1",
       "version_major": 2,
       "version_minor": 0
      },
      "text/plain": [
       "Tab(children=(VBox(children=(HBox(children=(Dropdown(description='IngType:', options=('All', 'chemical compoun…"
      ]
     },
     "metadata": {},
     "output_type": "display_data"
    }
   ],
   "source": [
    "display(tab)\n",
    "dropdown_ing_type.value = 'food'\n",
    "dropdown_ing_type.value = 'All'\n",
    "dropdown_ingredient_new.value = nidf.ingredient.values[2]\n",
    "dropdown_ing_type_plot.value = 'food'\n",
    "# dropdown_ingredient_new.value = nidf.ingredient.values[1]"
   ]
  },
  {
   "cell_type": "code",
   "execution_count": null,
   "metadata": {},
   "outputs": [],
   "source": []
  }
 ],
 "metadata": {
  "kernelspec": {
   "display_name": "Python 3",
   "language": "python",
   "name": "python3"
  },
  "language_info": {
   "codemirror_mode": {
    "name": "ipython",
    "version": 3
   },
   "file_extension": ".py",
   "mimetype": "text/x-python",
   "name": "python",
   "nbconvert_exporter": "python",
   "pygments_lexer": "ipython3",
   "version": "3.6.10"
  }
 },
 "nbformat": 4,
 "nbformat_minor": 4
}
